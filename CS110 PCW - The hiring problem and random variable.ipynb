{
 "cells": [
  {
   "cell_type": "markdown",
   "metadata": {},
   "source": [
    "Before you turn this problem in, make sure everything runs as expected. First, **restart the kernel** (in the menubar, select Kernel$\\rightarrow$Restart) and then **run all cells** (in the menubar, select Cell$\\rightarrow$Run All).\n",
    "\n",
    "Note that this Pre-class Work is estimated to take **48 minutes**.\n",
    "\n",
    "Make sure you fill in any place that says `YOUR CODE HERE` or \"YOUR ANSWER HERE\", as well as your name and collaborators below:"
   ]
  },
  {
   "cell_type": "code",
   "execution_count": 1,
   "metadata": {},
   "outputs": [],
   "source": [
    "NAME = \"Joram Erbarth\"\n",
    "COLLABORATORS = \"\""
   ]
  },
  {
   "cell_type": "markdown",
   "metadata": {},
   "source": [
    "---"
   ]
  },
  {
   "cell_type": "markdown",
   "metadata": {
    "deletable": false,
    "editable": false,
    "nbgrader": {
     "checksum": "b8900745b9d1bdb9a4e15c7640ab61f5",
     "grade": false,
     "grade_id": "cell-90b6f68e307cf4d7",
     "locked": true,
     "schema_version": 1,
     "solution": false
    }
   },
   "source": [
    "# CS110 Pre-class Work - Hiring problem and random variables\n",
    "\n",
    "## Part A. The Hire-Assistant Problem.\n",
    "\n",
    "Imagine that you need to hire a new assistant. Every day an agency sends a new assistant for you to interview. If the assistant is better than your current assistant, then you fire your current assistant and you hire the better assistant. You may assume that assistant quality is uniformly distributed between 0 and 1.\n",
    "\n",
    "## Question 1 [time estimate: 5 minutes]\n",
    "Write a function, named hire_assistant, that takes applicants (a list of the numbers that represent the level of qualification of the applicants; the higher the number, the better qualified), and returns the number hires if the applicants are presented in the exact same order as the input list applicants. Note that your function should not randomize anything (or else it would be called a randomized algorithm)."
   ]
  },
  {
   "cell_type": "code",
   "execution_count": 2,
   "metadata": {
    "deletable": false,
    "nbgrader": {
     "checksum": "3e823066b88c3701b5aa6feb0b29ea00",
     "grade": false,
     "grade_id": "cell-d011f5f4707fe41a",
     "locked": false,
     "schema_version": 1,
     "solution": true
    }
   },
   "outputs": [],
   "source": [
    "def hire_assistant(applicants):\n",
    "    \"\"\"\n",
    "    This function should output the number of assistants hired.\n",
    "    \n",
    "    Parameters\n",
    "    ----------\n",
    "    applicants : list\n",
    "        A list of the numbers that represent the level of qualification of \n",
    "        the applicants; the higher the number, the better qualified.\n",
    "        \n",
    "    Returns\n",
    "    -------\n",
    "    hires : int\n",
    "        Number of assistants hired.\n",
    "    \n",
    "    \"\"\"\n",
    "    #set best to minus infinity\n",
    "    best = float(\"-inf\")\n",
    "    # counter for hires \n",
    "    hires = 0\n",
    "    # interview every apllicant\n",
    "    for i in applicants:\n",
    "        # if i is better than the current best hire i and update best  \n",
    "        if i > best:\n",
    "            best = i\n",
    "            hires += 1\n",
    "    return hires\n",
    "    raise NotImplementedError()\n",
    "    "
   ]
  },
  {
   "cell_type": "code",
   "execution_count": 3,
   "metadata": {
    "deletable": false,
    "editable": false,
    "nbgrader": {
     "checksum": "1cf91a3b99ed87bfe9ea81d9a9252e16",
     "grade": true,
     "grade_id": "cell-66778b97ad66f71e",
     "locked": true,
     "points": 1,
     "schema_version": 1,
     "solution": false
    }
   },
   "outputs": [],
   "source": [
    "assert(hire_assistant([1])==1)\n",
    "assert(hire_assistant([-1, -2, -3, -4])==1)"
   ]
  },
  {
   "cell_type": "markdown",
   "metadata": {
    "deletable": false,
    "editable": false,
    "nbgrader": {
     "checksum": "950e8b4c047988bb6493460be72d1bc7",
     "grade": false,
     "grade_id": "cell-e5d810828093b20d",
     "locked": true,
     "schema_version": 1,
     "solution": false
    }
   },
   "source": [
    "## Question 2 [time estimate: 5 minutes]\n",
    "\n",
    "Assuming the applicants are presented in a random order, write a function that receives the number of applicants as input and returns the average number of assistants hired.\n",
    "\n",
    "**N.B.:** Don’t forget to run the simulation several times for each given number of applicants to better estimate the number of hires (please refer to task 3 of the Study Guide)."
   ]
  },
  {
   "cell_type": "code",
   "execution_count": 4,
   "metadata": {
    "deletable": false,
    "nbgrader": {
     "checksum": "7038d9d8cc9239d5ca15f5d21aa986e3",
     "grade": true,
     "grade_id": "cell-b223520ca72942a0",
     "locked": false,
     "points": 0,
     "schema_version": 1,
     "solution": true
    }
   },
   "outputs": [],
   "source": [
    "#import package\n",
    "import random\n",
    "\n",
    "#define function that receives the number of applicants as input and returns the average number of assistants hired\n",
    "def experimental_hires(N):\n",
    "    \n",
    "    # make list of all candidates \n",
    "    a = [*range(N)]\n",
    "    # counter for hires\n",
    "    n = 0\n",
    "    #repeat experiemnt 1000 times\n",
    "    for i in range(1000):\n",
    "        # shuffle list randomly\n",
    "        random.shuffle(a)\n",
    "        # count number of hires\n",
    "        n +=hire_assistant(a)\n",
    "    \n",
    "    #return average number of hires\n",
    "    return n/1000\n",
    "        \n",
    "    \n",
    "    raise NotImplementedError()"
   ]
  },
  {
   "cell_type": "markdown",
   "metadata": {
    "deletable": false,
    "editable": false,
    "nbgrader": {
     "checksum": "7f78b31a96cb5ddc8eb534ab037d9fee",
     "grade": false,
     "grade_id": "cell-a55a7b3d12ef78bb",
     "locked": true,
     "schema_version": 1,
     "solution": false
    }
   },
   "source": [
    "## Question 3 [time estimtate: 10 minutes]\n",
    "\n",
    "Use the function below, `analytical_hires(N)`, which returns the analytical expected number of hires, given the number of applicants, along with the function you created in question 2 to create a graph with two curves such that:\n",
    "* The x-axis shows the total number of applicants (make sure label the x-axis)\n",
    "* The y-axis shows the average number of hires (make sure label the y-axis)\n",
    "* The graph contains two curves;\n",
    "    * Curve 1: the theoretical performance estimates computed calls to the function `analytical_hires`.\n",
    "    * Curve 2: the simulated or experimental estimates using the function you created in question 2.\n"
   ]
  },
  {
   "cell_type": "code",
   "execution_count": 5,
   "metadata": {
    "deletable": false,
    "editable": false,
    "nbgrader": {
     "checksum": "1e514458253b863a6c69ce09ccd2d9de",
     "grade": false,
     "grade_id": "cell-4092502cb05933d4",
     "locked": true,
     "schema_version": 1,
     "solution": false
    }
   },
   "outputs": [],
   "source": [
    "def analytical_hires(N):\n",
    "    \"\"\"\n",
    "    This function returns the analytical expected number of\n",
    "    hires if there are N applicants\n",
    "    \n",
    "    Parameters\n",
    "    ----------\n",
    "    N : int\n",
    "        Number of applicants\n",
    "        \n",
    "    Returns\n",
    "    -------\n",
    "    hires : float\n",
    "        Average number of assistants hired\n",
    "    \n",
    "    Note\n",
    "    ----\n",
    "    From the textbook, we know that the analytical result is\n",
    "    \n",
    "        1 + 1/2 + 1/3 + ... + 1/N\n",
    "        \n",
    "    \"\"\"\n",
    "    hires = 0\n",
    "    for n in range(N):\n",
    "        hires += 1/(n+1)\n",
    "    return hires"
   ]
  },
  {
   "cell_type": "code",
   "execution_count": 6,
   "metadata": {
    "deletable": false,
    "nbgrader": {
     "checksum": "055b3a48707a83f9330ab3b00c45144a",
     "grade": true,
     "grade_id": "cell-f9c07920c069ce20",
     "locked": false,
     "points": 0,
     "schema_version": 1,
     "solution": true
    }
   },
   "outputs": [
    {
     "data": {
      "text/plain": [
       "<Figure size 640x480 with 1 Axes>"
      ]
     },
     "metadata": {},
     "output_type": "display_data"
    }
   ],
   "source": [
    "#define important lists\n",
    "a_hires = []\n",
    "e_hires = []\n",
    "applicants = []\n",
    "\n",
    "#gather data\n",
    "for i in range(100):\n",
    "    e = experimental_hires(i)\n",
    "    e_hires.append(e)\n",
    "    a = analytical_hires(i)\n",
    "    a_hires.append(a)\n",
    "    applicants.append(i)\n",
    "\n",
    "    \n",
    "import matplotlib.pyplot as plt\n",
    "#plot functions\n",
    "plt.plot(applicants,e_hires, label=\"experimental estimation hires\")\n",
    "plt.plot(applicants,a_hires, label=\"analytical estimation hires\")\n",
    "plt.legend()\n",
    "plt.xlabel(\"number of applicants\")\n",
    "plt.ylabel(\"average number of hires\")\n",
    "plt.title(\"number of hiers from number of applicants\")\n",
    "plt.show()\n",
    "#raise NotImplementedError()"
   ]
  },
  {
   "cell_type": "markdown",
   "metadata": {
    "deletable": false,
    "editable": false,
    "nbgrader": {
     "checksum": "f5c0fc54ac7e38140eacf7a0d3877a00",
     "grade": false,
     "grade_id": "cell-8720f8d8a6a98422",
     "locked": true,
     "schema_version": 1,
     "solution": false
    }
   },
   "source": [
    "## Question 4 [time estimate: 10 minutes]\n",
    "\n",
    "Plot a graph with the x-axis showing the total number of applicants and the y-axis showing the probability that exactly one assistant is hired."
   ]
  },
  {
   "cell_type": "code",
   "execution_count": 7,
   "metadata": {
    "deletable": false,
    "nbgrader": {
     "checksum": "99500575978918dad34be4dfe49fff36",
     "grade": true,
     "grade_id": "cell-d3fe1b7d6d175ad7",
     "locked": false,
     "points": 0,
     "schema_version": 1,
     "solution": true
    }
   },
   "outputs": [
    {
     "data": {
      "image/png": "[encoded data removed]",
      "text/plain": [
       "<Figure size 432x288 with 1 Axes>"
      ]
     },
     "metadata": {
      "needs_background": "light"
     },
     "output_type": "display_data"
    }
   ],
   "source": [
    "#define lists\n",
    "p_1_hire = []\n",
    "applicants = []\n",
    "\n",
    "#gather data\n",
    "for i in range(1,100,1):\n",
    "    p_1 = 1/i\n",
    "    p_1_hire.append(p_1)\n",
    "    applicants.append(i)\n",
    "\n",
    "    \n",
    "import matplotlib.pyplot as plt\n",
    "#plot graph\n",
    "plt.plot(applicants,p_1_hire)\n",
    "plt.xlabel(\"number of applicants\")\n",
    "plt.ylabel(\"probability that exactly one assistant is hired\")\n",
    "plt.title(\"probability that exactly one assistant is hired according to number of applicants\")\n",
    "plt.show()\n",
    "#raise NotImplementedError()\n",
    "#raise NotImplementedError()"
   ]
  },
  {
   "cell_type": "markdown",
   "metadata": {
    "deletable": false,
    "editable": false,
    "nbgrader": {
     "checksum": "5721e2312411a707d06a42f45aa28d6a",
     "grade": false,
     "grade_id": "cell-2bd2500c3ca4cf02",
     "locked": true,
     "schema_version": 1,
     "solution": false
    }
   },
   "source": [
    "## [Optional] Question 5 [time estimate: 15 minutes]\n",
    "Assume that an assistant is able to perform an amount of work each day that is equal to their “quality”. You have a total amount of work M that needs to be accomplished. Your costs are as follows:\n",
    "* X = daily salary for the assistant,\n",
    "* Y = fee to the employment agency,\n",
    "* Z = retrenchment fee for the old assistant.\n",
    "\n",
    "Try to formulate an optimal stopping rule (i.e., at what point should one stop requesting new potential hires from the agency?) Make any necessary assumptions to ensure the problem is well-formulated.\n"
   ]
  },
  {
   "cell_type": "code",
   "execution_count": 8,
   "metadata": {
    "deletable": false,
    "nbgrader": {
     "checksum": "43b6a51878665a39b0ede1313448eaa6",
     "grade": true,
     "grade_id": "cell-af2f0291eced6982",
     "locked": false,
     "points": 0,
     "schema_version": 1,
     "solution": true
    }
   },
   "outputs": [
    {
     "ename": "NotImplementedError",
     "evalue": "",
     "output_type": "error",
     "traceback": [
      "\u001b[1;31m---------------------------------------------------------------------------\u001b[0m",
      "\u001b[1;31mNotImplementedError\u001b[0m                       Traceback (most recent call last)",
      "\u001b[1;32m<ipython-input-8-15b94d1fa268>\u001b[0m in \u001b[0;36m<module>\u001b[1;34m\u001b[0m\n\u001b[0;32m      1\u001b[0m \u001b[1;31m# YOUR CODE HERE\u001b[0m\u001b[1;33m\u001b[0m\u001b[1;33m\u001b[0m\u001b[1;33m\u001b[0m\u001b[0m\n\u001b[1;32m----> 2\u001b[1;33m \u001b[1;32mraise\u001b[0m \u001b[0mNotImplementedError\u001b[0m\u001b[1;33m(\u001b[0m\u001b[1;33m)\u001b[0m\u001b[1;33m\u001b[0m\u001b[1;33m\u001b[0m\u001b[0m\n\u001b[0m",
      "\u001b[1;31mNotImplementedError\u001b[0m: "
     ]
    }
   ],
   "source": [
    "# YOUR CODE HERE\n",
    "raise NotImplementedError()"
   ]
  },
  {
   "cell_type": "markdown",
   "metadata": {
    "deletable": false,
    "editable": false,
    "nbgrader": {
     "checksum": "33ac7721d636faf76ce7bdbda1b443d6",
     "grade": false,
     "grade_id": "cell-92211f5b42929c46",
     "locked": true,
     "schema_version": 1,
     "solution": false
    }
   },
   "source": [
    "## Part B. The Hat Check Problem.\n",
    "\n",
    "There is a coat check at a party, where an attendant stores everyone’s hat while they attend the party. The attendant receives the N hats from everyone attending (all attendees come with a hat). Unfortunately, the coat check attendant forgets which hat belongs to whom. Rather than admitting a mistake, the attendant simply returns random hats back to the party-goers. \n",
    "\n",
    "What is the average number of correct hats returned? Here are some guiding questions to help you to simulate this problem. \n",
    "\n",
    "## Question 1 [time estimate: 3 minutes]\n",
    "Knowing that everyone’s hats are unique and every guest has a hat, do you need to generate a random sample in a similar way as what you did for the hiring assistant problem? "
   ]
  },
  {
   "cell_type": "markdown",
   "metadata": {
    "deletable": false,
    "nbgrader": {
     "checksum": "259c6115bee56676178f28ab36d6db2f",
     "grade": true,
     "grade_id": "cell-e786799fc4eb1499",
     "locked": false,
     "points": 0,
     "schema_version": 1,
     "solution": true
    }
   },
   "source": [
    "If we want to find an experimental answer to the question, we need a random sample because the hats' distribution is random, and we have to simulate them. This is similar to the assistant problem. If we want to find a mathematical answer, we do not need a random sample. "
   ]
  },
  {
   "cell_type": "markdown",
   "metadata": {
    "deletable": false,
    "editable": false,
    "nbgrader": {
     "checksum": "c9f8182f3dd59f572cb797f373fb7464",
     "grade": false,
     "grade_id": "cell-e2f68e2bd4c2d099",
     "locked": true,
     "schema_version": 1,
     "solution": false
    }
   },
   "source": [
    "## Question 2 [time estimate: 3 minutes]\n",
    "\n",
    "Which of the following commands do you think is the Pythonic way to implement that? \n",
    "```\n",
    "import numpy as np\n",
    "n = 100 #the number of party attendants\n",
    "```\n",
    "**Command 1.**\n",
    "```\n",
    "hat_list = [np.random.integers(0,n) for i in range(n)]\n",
    "```\n",
    "**Command 2.**\n",
    "```\n",
    "hat_list = list(range(n)) \n",
    "np.random.shuffle(hat_list) \n",
    "```\n",
    "**Command 3.**\n",
    "```\n",
    "hat_list = np.random.sample(n)\n",
    "```"
   ]
  },
  {
   "cell_type": "markdown",
   "metadata": {
    "deletable": false,
    "nbgrader": {
     "checksum": "b5e83025692b2772640e9e58f0f36af1",
     "grade": true,
     "grade_id": "cell-b8da78e72c1c0738",
     "locked": false,
     "points": 0,
     "schema_version": 1,
     "solution": true
    }
   },
   "source": [
    "Command 2 is the right wat to implement a list with integers from 0 to n in random order. The others do not work because random.sample returns floats, and randomly does not have an attribute integers"
   ]
  },
  {
   "cell_type": "markdown",
   "metadata": {
    "deletable": false,
    "editable": false,
    "nbgrader": {
     "checksum": "ec25d5c32cc709928fa50666f21d9808",
     "grade": false,
     "grade_id": "cell-8915979a0b8cf6ce",
     "locked": true,
     "schema_version": 1,
     "solution": false
    }
   },
   "source": [
    "## Question 3 [time estimate: 5 minutes]\n",
    "\n",
    "Now write a function `hat_check(N)` that has: \n",
    "* Input: N the number of party attendants. \n",
    "* Output: the number of hats correctly returned despite the fact that hats are randomly handed back to the guests.\n",
    "\n",
    "You should use the command you picked for question 2. "
   ]
  },
  {
   "cell_type": "code",
   "execution_count": 12,
   "metadata": {
    "deletable": false,
    "nbgrader": {
     "checksum": "c37f6cdc2ca8cbb92644fa2746445779",
     "grade": true,
     "grade_id": "cell-c8499aeb1b1d76c7",
     "locked": false,
     "points": 0,
     "schema_version": 1,
     "solution": true
    }
   },
   "outputs": [],
   "source": [
    "import numpy as np\n",
    "\n",
    "#define function\n",
    "def hat_check(n):\n",
    "    #create list for people\n",
    "    hat_list = list(range(n))\n",
    "    #count correct hats\n",
    "    correct_hats = 0\n",
    "    \n",
    "    #repeat experiment 1000 times\n",
    "    for i in range(1000):\n",
    "        #randomize list\n",
    "        np.random.shuffle(hat_list) \n",
    "        for i in range(n):\n",
    "            #check if hat is still at right position and update counter\n",
    "            if i == hat_list[i]:\n",
    "                correct_hats += 1\n",
    "    #return average \n",
    "    av = correct_hats/1000\n",
    "    return av\n",
    "                "
   ]
  },
  {
   "cell_type": "markdown",
   "metadata": {
    "deletable": false,
    "editable": false,
    "nbgrader": {
     "checksum": "1ff8b95312de63513a2107ffb7ab9d5a",
     "grade": false,
     "grade_id": "cell-086d4cc0fc5b0155",
     "locked": true,
     "schema_version": 1,
     "solution": false
    }
   },
   "source": [
    "## Question 4 [time estimate: 7 minutes]\n",
    "\n",
    "Plot a curve with the x-axis showing the total number of party attendants and the y-axis showing the average number of hats correctly returned. As always, remember to run several trials. "
   ]
  },
  {
   "cell_type": "code",
   "execution_count": 13,
   "metadata": {
    "deletable": false,
    "nbgrader": {
     "checksum": "c4d1251529b962f3d3ce28f6ac9f244e",
     "grade": true,
     "grade_id": "cell-597031ea2a5a512a",
     "locked": false,
     "points": 0,
     "schema_version": 1,
     "solution": true
    }
   },
   "outputs": [
    {
     "data": {
      "image/png": "[encoded data removed]",
      "text/plain": [
       "<Figure size 432x288 with 1 Axes>"
      ]
     },
     "metadata": {
      "needs_background": "light"
     },
     "output_type": "display_data"
    }
   ],
   "source": [
    "import matplotlib.pyplot as plt\n",
    "\n",
    "#define lists\n",
    "h_c = []\n",
    "p_a = []\n",
    "\n",
    "#gather data\n",
    "for i in range(100):\n",
    "    c = hat_check(i)\n",
    "    h_c.append(c)\n",
    "    p_a.append(i)\n",
    "    \n",
    "\n",
    "#plot graph\n",
    "plt.plot(p_a,h_c)\n",
    "plt.xlabel(\"total number of party attendants\")\n",
    "plt.ylabel(\" average number of hats correctly returned.\")\n",
    "plt.show()\n",
    "#raise NotImplementedError()\n",
    "#raise NotImplementedError()"
   ]
  },
  {
   "cell_type": "markdown",
   "metadata": {
    "deletable": false,
    "editable": false,
    "nbgrader": {
     "checksum": "aad5d529ed9af56148bfc12691cdb950",
     "grade": false,
     "grade_id": "cell-f74b2078132a5177",
     "locked": true,
     "schema_version": 1,
     "solution": false
    }
   },
   "source": [
    "## [Optional] Question 5 [time estimate: 15 minutes]\n",
    "\n",
    "As $N$ tends to infinity, the number of correct hats returned tends towards a well-known statistical distribution. State the distribution with all its parameters. Plot several samples using your code. Does the empirical distribution match your theoretical prediction?"
   ]
  },
  {
   "cell_type": "markdown",
   "metadata": {
    "deletable": false,
    "nbgrader": {
     "checksum": "33f94a80e6d5d9c371e6c39790bd67eb",
     "grade": true,
     "grade_id": "cell-32fe26c1d99fdd2a",
     "locked": false,
     "points": 0,
     "schema_version": 1,
     "solution": true
    }
   },
   "source": [
    "\n",
    "Every person has the probability of 1/n to get his hat. Because we have n persons, we would predict that $n* 1/n = 1$ person get the right hat. We see that this is independent of N. Therefore, we have a uniform distribution. f(x) = 1 for all integers x>0. For x = 0 we get f(x)= 0 because no hats can be returned correctly without hats. We can see that our empirical distribution matches our theoretical predictions with small errors."
   ]
  },
  {
   "cell_type": "code",
   "execution_count": 14,
   "metadata": {},
   "outputs": [
    {
     "data": {
      "image/png": "[encoded data removed]",
      "text/plain": [
       "<Figure size 432x288 with 1 Axes>"
      ]
     },
     "metadata": {
      "needs_background": "light"
     },
     "output_type": "display_data"
    }
   ],
   "source": [
    "#create analytical data\n",
    "th = [0]\n",
    "for i in range(99):\n",
    "    th.append(1)\n",
    "    \n",
    "#plot graphs\n",
    "plt.plot(p_a,h_c, label=\"empirical\")\n",
    "plt.plot(p_a,th, label=\"theoretical\")\n",
    "plt.legend()\n",
    "plt.xlabel(\"total number of party attendants\")\n",
    "plt.ylabel(\" average number of hats correctly returned.\")\n",
    "plt.show()"
   ]
  },
  {
   "cell_type": "code",
   "execution_count": null,
   "metadata": {},
   "outputs": [],
   "source": []
  }
 ],
 "metadata": {
  "celltoolbar": "Edit Metadata",
  "kernelspec": {
   "display_name": "Python 3",
   "language": "python",
   "name": "python3"
  },
  "language_info": {
   "codemirror_mode": {
    "name": "ipython",
    "version": 3
   },
   "file_extension": ".py",
   "mimetype": "text/x-python",
   "name": "python",
   "nbconvert_exporter": "python",
   "pygments_lexer": "ipython3",
   "version": "3.7.3"
  }
 },
 "nbformat": 4,
 "nbformat_minor": 2
}
