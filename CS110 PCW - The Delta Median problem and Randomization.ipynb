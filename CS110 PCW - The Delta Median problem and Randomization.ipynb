{
 "cells": [
  {
   "cell_type": "markdown",
   "metadata": {},
   "source": [
    "Before you turn this problem in, make sure everything runs as expected. First, **restart the kernel** (in the menubar, select Kernel$\\rightarrow$Restart) and then **run all cells** (in the menubar, select Cell$\\rightarrow$Run All).\n",
    "\n",
    "Note that this Pre-class Work is estimated to take **34 minutes**.\n",
    "\n",
    "Make sure you fill in any place that says `YOUR CODE HERE` or \"YOUR ANSWER HERE\", as well as your name and collaborators below:"
   ]
  },
  {
   "cell_type": "code",
   "execution_count": 1,
   "metadata": {},
   "outputs": [],
   "source": [
    "NAME = \"Joram Erbarth\"\n",
    "COLLABORATORS = \"\""
   ]
  },
  {
   "cell_type": "markdown",
   "metadata": {},
   "source": [
    "---"
   ]
  },
  {
   "cell_type": "markdown",
   "metadata": {
    "deletable": false,
    "editable": false,
    "nbgrader": {
     "checksum": "69779d40de39e2fcb822ffd099ed946a",
     "grade": false,
     "grade_id": "cell-361a67c139252f60",
     "locked": true,
     "schema_version": 1,
     "solution": false
    }
   },
   "source": [
    "# CS110 Pre-class Work - The Delta Median problem and Randomization\n",
    "\n",
    "## Question 1 [time estimate: 16 minutes]\n",
    "\n",
    "### Question 1a [time estimate: 7 minutes]\n",
    "\n",
    "Write the worst sort function in the world, `worst_sort`. This function takes a list, and then randomly shuffles it until it happens to be in sorted order. Once it is in sorted order then the list is returned.\n"
   ]
  },
  {
   "cell_type": "code",
   "execution_count": 2,
   "metadata": {
    "deletable": false,
    "nbgrader": {
     "checksum": "c144735a0a3c9ee1e5a60e781fec46a9",
     "grade": false,
     "grade_id": "cell-ead9c74054a1c5da",
     "locked": false,
     "schema_version": 1,
     "solution": true
    }
   },
   "outputs": [],
   "source": [
    "import random\n",
    "def worst_sort(A):\n",
    "    \"\"\"\n",
    "    Sort A in ascending order by randomly shuffling its \n",
    "    elements until they are in order.\n",
    "    \n",
    "    Parameters\n",
    "    ----------\n",
    "    A : list\n",
    "        A list of numerical values\n",
    "        \n",
    "    Returns\n",
    "    -------\n",
    "    A : list\n",
    "        Sorted list\n",
    "        \n",
    "    \"\"\"\n",
    "    #we set the variable to true to control the while loop\n",
    "    B = True \n",
    "    #while b is true we shuffle the list\n",
    "    while B:\n",
    "        random.shuffle(A)\n",
    "        #we set b to false if the lists are equal this does not get changed  \n",
    "        B = False\n",
    "        #we go over the list and check for each element if it is bigger than the one before\n",
    "        for i in range(1,len(A)):\n",
    "            if A[i] < A[i-1]:\n",
    "                #we set b to true if one element is not sorted\n",
    "                B = True\n",
    "            \n",
    "    #we return the list            \n",
    "    return A\n",
    "    raise NotImplementedError()\n",
    "    \n",
    "print(worst_sort([-5,3,7,4,0,9]))"
   ]
  },
  {
   "cell_type": "code",
   "execution_count": 3,
   "metadata": {
    "deletable": false,
    "editable": false,
    "nbgrader": {
     "checksum": "09c3f02f46b5ba86c3aa80498b9c8c34",
     "grade": true,
     "grade_id": "cell-ff4db3a3e8b04515",
     "locked": true,
     "points": 1,
     "schema_version": 1,
     "solution": false
    }
   },
   "outputs": [],
   "source": [
    "# Please ignore this cell. This cell is for us to implement the tests \n",
    "# to see if your code works properly. "
   ]
  },
  {
   "cell_type": "markdown",
   "metadata": {
    "deletable": false,
    "editable": false,
    "nbgrader": {
     "checksum": "18d2bd43c2db165cb6806cb1e14df4f1",
     "grade": false,
     "grade_id": "cell-3ffcfdae9ec3ea41",
     "locked": true,
     "schema_version": 1,
     "solution": false
    }
   },
   "source": [
    "### Question 1b [time estimate: 3 minutes]\n",
    "What is the best case complexity of this algorithm?"
   ]
  },
  {
   "cell_type": "markdown",
   "metadata": {
    "deletable": false,
    "nbgrader": {
     "checksum": "76bf94004078f73d21791758ac6db72b",
     "grade": true,
     "grade_id": "cell-afac80171b3b6232",
     "locked": false,
     "points": 0,
     "schema_version": 1,
     "solution": true
    }
   },
   "source": [
    "The best-case complexity of this algorithm is n. This is because it takes n time to check if the list is sorted and n time to shuffle the list. Both have to be done exactly once in the best case because the first shuffle produces a sorted list. "
   ]
  },
  {
   "cell_type": "markdown",
   "metadata": {
    "deletable": false,
    "editable": false,
    "nbgrader": {
     "checksum": "1b1210d5a27f9933086d0f3a0d234361",
     "grade": false,
     "grade_id": "cell-d98018127b7e79f4",
     "locked": true,
     "schema_version": 1,
     "solution": false
    }
   },
   "source": [
    "### Question 1c [time estimate: 3 minutes]\n",
    "\n",
    "What is the average case complexity?\n"
   ]
  },
  {
   "cell_type": "markdown",
   "metadata": {
    "deletable": false,
    "nbgrader": {
     "checksum": "97d1e74314efdae93ea73d510e233468",
     "grade": true,
     "grade_id": "cell-9d52d34daa1e3478",
     "locked": false,
     "points": 0,
     "schema_version": 1,
     "solution": true
    }
   },
   "source": [
    "There are n! possible ways to sort the array. Each of these arrays has the same probability of being produced when shuffling the list. Therefore, the average complexity is n!. Each time the algotiyhm has a chance of 1/n! to produce a sorted array."
   ]
  },
  {
   "cell_type": "markdown",
   "metadata": {
    "deletable": false,
    "editable": false,
    "nbgrader": {
     "checksum": "fdbf5403114d2a68085e8172d0122685",
     "grade": false,
     "grade_id": "cell-d6d8ad45088488eb",
     "locked": true,
     "schema_version": 1,
     "solution": false
    }
   },
   "source": [
    "### Question 1d [time estimate: 3 minutes]\n",
    "\n",
    "For what size lists is this a feasible method?"
   ]
  },
  {
   "cell_type": "markdown",
   "metadata": {
    "deletable": false,
    "nbgrader": {
     "checksum": "080a5eecbe3afcffed278b7cbba7f51a",
     "grade": true,
     "grade_id": "cell-ab40f08768579798",
     "locked": false,
     "points": 0,
     "schema_version": 1,
     "solution": true
    }
   },
   "source": [
    "It is feasible for small inputs. For very small inputs like 2 the performance is not that different from other sorting algorithms. For larger inputs, it becomes unfeasible fast. For n=5 n! it is 120 witch is unreasonable high, and for n = 10 it is 3628800."
   ]
  },
  {
   "cell_type": "markdown",
   "metadata": {
    "deletable": false,
    "editable": false,
    "nbgrader": {
     "checksum": "cbe19c6348c19b5df04e84b537f6ebf0",
     "grade": false,
     "grade_id": "cell-56ae4e75a4086ee8",
     "locked": true,
     "schema_version": 1,
     "solution": false
    }
   },
   "source": [
    "### [Optional] Question 1e [time estimate: 5 minutes]\n",
    "\n",
    "Can you think of an even worse sorting method? In such a case, what would its complexity be? How big a list could you sort?"
   ]
  },
  {
   "cell_type": "markdown",
   "metadata": {
    "deletable": false,
    "nbgrader": {
     "checksum": "564b860df18fb1bb2fc987ec4240f98d",
     "grade": true,
     "grade_id": "cell-ac05806942341926",
     "locked": false,
     "points": 0,
     "schema_version": 1,
     "solution": true
    }
   },
   "source": [
    "An algorithm that sorts randomly, where each possible list's probability is not the same, could perform even worse. Depending on the exact parameters, it could be hard to sort even small lists. For example, a list of 2 elements could be hard to sort if the wrongly sorted array has a 90% probability. It would take 10 steps on average instead of 2 as seen before. For inputs larger than 2 it could be not feasible to use that algorithm. "
   ]
  },
  {
   "cell_type": "markdown",
   "metadata": {
    "deletable": false,
    "editable": false,
    "nbgrader": {
     "checksum": "40515e7d9388c7d96f739bacbce82dc9",
     "grade": false,
     "grade_id": "cell-16012d2af0ef00ec",
     "locked": true,
     "schema_version": 1,
     "solution": false
    }
   },
   "source": [
    "## Question 2 [time estimate: 18 minutes]\n",
    "\n",
    "Approximate median finder. Given a list and $\\tilde{\\delta}$ (a number between 0 and 0.5), the approximate median finder function returns a number that is guaranteed to lie between the $(50-\\tilde{\\delta}/2)$% and $(50+\\tilde{\\delta}/2)$% percentiles, where $\\tilde{\\delta}=100\\cdot \\delta$. Implement such a function by randomly selecting an element from the list and testing whether or not it lies within the bounds. If it doesn’t then retry with a new random element, but only a limited number of retries are allowed (you decide the maximum number of retries.)\n",
    "\n",
    "### Question 2a [time estimate: 5 minutes]\n",
    "Complete the following function\n"
   ]
  },
  {
   "cell_type": "code",
   "execution_count": 4,
   "metadata": {
    "deletable": false,
    "nbgrader": {
     "checksum": "548fd28a258929e5cc8df24ef955088e",
     "grade": false,
     "grade_id": "cell-2ab65512a6148d3c",
     "locked": false,
     "schema_version": 1,
     "solution": true
    }
   },
   "outputs": [],
   "source": [
    "def check_approx_med(A, num, delta):\n",
    "    \"\"\"\n",
    "    Given a list and a number in a list, determine whether it is \n",
    "    within (50-delta/2)% and(50+delta/2)% percentiles.\n",
    "    \n",
    "    X% percentile of a list is defined to be the smallest number in \n",
    "    the list that is as large as at least X% numbers in the list. \n",
    "    \n",
    "    Parameters\n",
    "    ----------\n",
    "    A : list\n",
    "        A list of numerical values\n",
    "    num \n",
    "        The number of interest\n",
    "    delta : float\n",
    "        The error, lies between 0 and 0.5\n",
    "\n",
    "    Returns\n",
    "    -------\n",
    "    isApproxMed : bool\n",
    "        A boolean value indicating whether num is whithin the bound\n",
    "    \n",
    "    \"\"\"\n",
    "    #we return the number if the array has only one element\n",
    "    if len(A) == 1:\n",
    "        \n",
    "        return True\n",
    "    \n",
    "    #we define the upper and the lower bound depending on delta\n",
    "    upper = ((50 + (100*(delta/2)))*len(A)/100)\n",
    "    lower = ((50 - (100*(delta/2)))*len(A)/100)\n",
    "    \n",
    "    #we count the number of smaller elements in the list\n",
    "    count = 0\n",
    "    for i in A:\n",
    "        if num > i :\n",
    "            count += 1\n",
    "        \n",
    "    #we compare if the count is between the bounds\n",
    "    if count > lower and count < upper:\n",
    "        return True\n",
    "    else:\n",
    "        return False\n",
    "    raise NotImplementedError()\n",
    "    "
   ]
  },
  {
   "cell_type": "code",
   "execution_count": 5,
   "metadata": {
    "deletable": false,
    "editable": false,
    "nbgrader": {
     "checksum": "b979d5befebc9e0a9b3f105503fa8eac",
     "grade": true,
     "grade_id": "cell-df56d7433abb6517",
     "locked": true,
     "points": 1,
     "schema_version": 1,
     "solution": false
    }
   },
   "outputs": [],
   "source": [
    "assert(check_approx_med([0, 1], 0.4, .25) == True)\n",
    "assert(check_approx_med([0, 1], 0, .25) == False)\n",
    "assert(check_approx_med([0], 0, .25) == True)"
   ]
  },
  {
   "cell_type": "markdown",
   "metadata": {
    "deletable": false,
    "editable": false,
    "nbgrader": {
     "checksum": "ea4f76410780e7134e2bc46fbe5663e9",
     "grade": false,
     "grade_id": "cell-18a16dfd102f137c",
     "locked": true,
     "schema_version": 1,
     "solution": false
    }
   },
   "source": [
    "### Question 2b [time estimate: 5 minutes]\n",
    "Complete the following function that makes use of `check_approx_med` above.\n"
   ]
  },
  {
   "cell_type": "code",
   "execution_count": 6,
   "metadata": {
    "deletable": false,
    "nbgrader": {
     "checksum": "2b3cfdf82e0efce4078cc52b3680f7be",
     "grade": false,
     "grade_id": "cell-e19685b545147dde",
     "locked": false,
     "schema_version": 1,
     "solution": true
    }
   },
   "outputs": [],
   "source": [
    "import random\n",
    "def approx_med_finder(A, delta):\n",
    "    \"\"\"\n",
    "    Given a list, find a number in the list that is between \n",
    "    50-delta/2% and 50+delta/2% percentiles\n",
    "    \n",
    "    Paramters\n",
    "    ---------\n",
    "    A : list\n",
    "        A list of numerical values\n",
    "    Delta : int\n",
    "        The error, lies between 0 and 0.5\n",
    "        \n",
    "    Returns\n",
    "    -------\n",
    "    num\n",
    "        The approximated median if it is found within 100//delta trials\n",
    "        (this is one possible maximum number of retries. While you are \n",
    "        encouraged to play around with another limits, the submitted work \n",
    "        must use this number)\n",
    "    None\n",
    "        Finding failed, if nothing is found within 100//delta trials\n",
    "   \n",
    "   \n",
    "    Note\n",
    "    ----\n",
    "    The 100//delta is chosen here as it is the expected number of trials for \n",
    "    the first successful finding to occur (using geometric distribution)\n",
    "    \n",
    "    \"\"\"\n",
    "    #we define the number of tests\n",
    "    for i in range(int(100//delta)):\n",
    "        #we choose a random number \n",
    "        num = random.choice(A)\n",
    "        #we check if the number is a median and return the number if it is\n",
    "        if check_approx_med(A,num,delta)==True:\n",
    "            return num\n",
    "    #we return none if we could not find the median\n",
    "    return None\n",
    "    \n",
    "    raise NotImplementedError()\n"
   ]
  },
  {
   "cell_type": "markdown",
   "metadata": {
    "deletable": false,
    "editable": false,
    "nbgrader": {
     "checksum": "77b77f7047dea39f9b7526a785f0e652",
     "grade": false,
     "grade_id": "cell-1863e0846b176982",
     "locked": true,
     "schema_version": 1,
     "solution": false
    }
   },
   "source": [
    "### Question 2c [time estimate: 3 minutes]\n",
    "\n",
    "What is the probability of failure in each random trial? What is the probability of failure after all the allowed random trials? Does this scale with $\\delta$ or $N$ (the number of elements in a list)?\n"
   ]
  },
  {
   "cell_type": "markdown",
   "metadata": {
    "deletable": false,
    "nbgrader": {
     "checksum": "f7d6ed353a91d12d66b53a735d84f81b",
     "grade": true,
     "grade_id": "cell-efe7ab76f6a2546a",
     "locked": false,
     "points": 0,
     "schema_version": 1,
     "solution": true
    }
   },
   "source": [
    "First, we have to calculate the number of elements within delta. This is (delta*100)*N/100. This is the number of acceptable outputs. The number of wrong outputs, therefore, is 1-(delta*100/N). Because every number has the same probability of being chosen, the probability for each trial is (1-((delta*100)*N/100)/N. Since we do 100//delta trials the probability of failure after all the trials is: ((1-((delta*100)*N/100))/N)*(100//delta). We can see that this does not scale with delta because the probability for each trial increases as delta decreases, but the number of trials increases, decreasing the probability. It does not scale with N as well because the number of possibilities for each trial and the number of possible medians depends on N. "
   ]
  },
  {
   "cell_type": "markdown",
   "metadata": {
    "deletable": false,
    "editable": false,
    "nbgrader": {
     "checksum": "a602a3cad0ff35029b447d00dcee6b6c",
     "grade": false,
     "grade_id": "cell-a41fe377076cd283",
     "locked": true,
     "schema_version": 1,
     "solution": false
    }
   },
   "source": [
    "### Question 2d [time estimate: 5 minutes]\n",
    "Analyze the expected runtime of `approx_med_finder`. Note that because the function uses `check_approx_med`, you will most likely need to analyze the runtime of that function, too."
   ]
  },
  {
   "cell_type": "markdown",
   "metadata": {
    "deletable": false,
    "nbgrader": {
     "checksum": "255d88cf8e4f6ff8b3eb05cab2aa5f48",
     "grade": true,
     "grade_id": "cell-86b199798477fc2a",
     "locked": false,
     "points": 0,
     "schema_version": 1,
     "solution": true
    }
   },
   "source": [
    "The check_approx_med has a runtime of n because it has to go over the array once, and the rest of the operations take constant time. The probability that the median is found in each round is (delta*100)*N/100))/N, which can be simplified to delta. We do this 100/delta times, so we expect 100/delta  * delta = 100 iterations. Each iteration has the runtime of n because it contains the other function, so the expected runtime is 100 n.  "
   ]
  },
  {
   "cell_type": "code",
   "execution_count": null,
   "metadata": {},
   "outputs": [],
   "source": []
  },
  {
   "cell_type": "code",
   "execution_count": null,
   "metadata": {},
   "outputs": [],
   "source": []
  }
 ],
 "metadata": {
  "kernelspec": {
   "display_name": "Python 3",
   "language": "python",
   "name": "python3"
  },
  "language_info": {
   "codemirror_mode": {
    "name": "ipython",
    "version": 3
   },
   "file_extension": ".py",
   "mimetype": "text/x-python",
   "name": "python",
   "nbconvert_exporter": "python",
   "pygments_lexer": "ipython3",
   "version": "3.7.3"
  }
 },
 "nbformat": 4,
 "nbformat_minor": 2
}
