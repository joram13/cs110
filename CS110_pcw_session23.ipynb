{
 "cells": [
  {
   "cell_type": "markdown",
   "metadata": {
    "deletable": false,
    "editable": false
   },
   "source": [
    "Before you turn this problem in, make sure everything runs as expected. First, **restart the kernel** (in the menubar, select Kernel$\\rightarrow$Restart) and then **run all cells** (in the menubar, select Cell$\\rightarrow$Run All).\n",
    "\n",
    "Note that this Pre-class Work is estimated to take **46 minutes**.\n",
    "\n",
    "Make sure you fill in any place that says `YOUR CODE HERE` or \"YOUR ANSWER HERE\", as well as your name and collaborators below:"
   ]
  },
  {
   "cell_type": "code",
   "execution_count": null,
   "metadata": {},
   "outputs": [],
   "source": [
    "NAME = \"Joram Erbarth\"\n",
    "COLLABORATORS = \"\""
   ]
  },
  {
   "cell_type": "markdown",
   "metadata": {
    "deletable": false,
    "editable": false
   },
   "source": [
    "# CS110 Pre-class Work - Computational applications of dynamic programming and greedy algorithms"
   ]
  },
  {
   "cell_type": "markdown",
   "metadata": {
    "deletable": false,
    "editable": false
   },
   "source": [
    "## Question 1 [time estimate: 18 minutes]\n",
    "Complete the following functions, following the algorithms in Cormen et al."
   ]
  },
  {
   "cell_type": "code",
   "execution_count": 198,
   "metadata": {},
   "outputs": [],
   "source": [
    "import numpy as np\n",
    "def lcs_length(x, y):\n",
    "    \"\"\"\n",
    "    Computes the length of an LCS of strings x and y.\n",
    "    \n",
    "    Inputs:\n",
    "    - x, y: strings\n",
    "    \n",
    "    Outputs:\n",
    "    - c: a list of lists of ints OR a numpy array. c[i,j] contains the \n",
    "    length of a LCS of x[:i] and y[:j]\n",
    "    - b: a list of lists of strings OR a numpy array, containing the information\n",
    "    used for LCS reconstruction (See Cormen et al.) Use \"N\" (North), \"NW\" \n",
    "    (North West), and \"W\" (West) that correspond to the directions of the arrows \n",
    "    used in Cormen et al.\n",
    "    \"\"\"\n",
    "    #define variables for the length of the strings\n",
    "    m = len(x)\n",
    "    n = len(y)\n",
    "    # define table\n",
    "    c = np.zeros((m+1,n+1), dtype = int)\n",
    "    b = np.zeros((m+1,n+1), dtype = object)\n",
    "    #iterate over every part of table\n",
    "    for i in range(1, m+1):\n",
    "        for j in range(1,n+1):\n",
    "            #check if characters are equal \n",
    "            if x[i-1]== y[j-1] and i >= 0 and j >= 0:\n",
    "                #fill table\n",
    "                c[i,j] = c[i-1, j-1]+1\n",
    "                b[i,j] = \"NW\"\n",
    "            #check how previous characters compare and fill table\n",
    "            elif c[i-1, j] >= c[i,j-1]:\n",
    "                c[i,j] = c[i-1, j]\n",
    "                b[i,j] = \"N\"\n",
    "            else:\n",
    "                c[i,j] = c[i, j-1]\n",
    "                b[i,j] = \"W\"\n",
    "    return c, b\n",
    "            "
   ]
  },
  {
   "cell_type": "code",
   "execution_count": 199,
   "metadata": {},
   "outputs": [],
   "source": [
    "a = [[],0]\n",
    "def print_lcs(b,x,i,j):\n",
    "    \"\"\"\n",
    "    Finds a LCS.\n",
    "    \n",
    "    Inputs:\n",
    "    - b: a list of lists of strings OR a numpy array, returned by lcs_length\n",
    "    - x: string, an input to lcs_length\n",
    "    - i, j: ints. print_lcs(b,x,i,j) returns a lcs of x[:i] and y[:j], where y\n",
    "    is an input to lcs_length.\n",
    "    \n",
    "    Outputs:\n",
    "    - lcs: list of strings, representing a LCS of x and y\n",
    "    - length: int, the length of the LCS\n",
    "    \n",
    "    You can choose to actually PRINT OUT the LCS or not using the print function.\n",
    "    \n",
    "    \"\"\"\n",
    "    #check if i and j in table and append a according to direction\n",
    "    if i <= 0 and j <= 0:\n",
    "        if b[i+1,j+1] == \"NW\":\n",
    "            a[0].append(x[i])\n",
    "            a[1]+=1\n",
    "        return a\n",
    "    if b[i+1,j+1] == \"NW\":\n",
    "        print_lcs(b,x, i-1,j-1)\n",
    "        a[0].append(x[i])\n",
    "        a[1]+=1\n",
    "    elif b[i+1,j+1] == \"N\":\n",
    "        print_lcs(b,x, i-1,j)\n",
    "    else:\n",
    "        print_lcs(b,x, i,j-1)\n",
    "    #ckeck if this is the original call to the function\n",
    "    if i == len(b)-2 and j == len(b[0])-2:\n",
    "        #copy a, clear it for future use and return the copy\n",
    "        aa = a.copy()\n",
    "        a[0] = []\n",
    "        a[1] = 0\n",
    "        return aa\n",
    "    "
   ]
  },
  {
   "cell_type": "code",
   "execution_count": 200,
   "metadata": {
    "deletable": false,
    "editable": false
   },
   "outputs": [],
   "source": [
    "import numpy as np\n",
    "x, y = 'ambgdec', 'aubyci'\n",
    "c, b = lcs_length(x, y)\n",
    "assert(print_lcs(b,x,len(x)-1,len(y)-1)[0] == ['a', 'b', 'c'])\n",
    "assert(print_lcs(b,x,len(x)-1,len(y)-1)[1] == 3)\n",
    "\n",
    "x, y = 'xyqwsssazdesaqqf', 'xoppoypllzookjdef'\n",
    "c, b = lcs_length(x, y)\n",
    "assert(print_lcs(b,x,len(x)-1,len(y)-1)[0]  == ['x', 'y', 'z', 'd', 'e', 'f'])\n",
    "assert(print_lcs(b,x,len(x)-1,len(y)-1)[1]  == 6)"
   ]
  },
  {
   "cell_type": "markdown",
   "metadata": {
    "deletable": false,
    "editable": false
   },
   "source": [
    "## Question 2. (Adapted from Exercise 15-4.1 Cormen et al.) [time estimate: 3 minutes]\n",
    "Use the functions built in Question 1 to find the LCS of ```'10010101'``` and ```'010110110'```. You should store the list that represents the LCS you found in a variable named ```lcs_q2```"
   ]
  },
  {
   "cell_type": "code",
   "execution_count": 201,
   "metadata": {},
   "outputs": [
    {
     "name": "stdout",
     "output_type": "stream",
     "text": [
      "[['1', '0', '0', '1', '1', '0'], 6]\n"
     ]
    }
   ],
   "source": [
    "import numpy as np\n",
    "\n",
    "x, y = '10010101', '010110110'\n",
    "c, b = lcs_length(x, y)\n",
    "\n",
    "lcs_q2 = print_lcs(b,x,len(x)-1,len(y)-1)\n",
    "\n",
    "print(lcs_q2)"
   ]
  },
  {
   "cell_type": "markdown",
   "metadata": {
    "deletable": false,
    "editable": false
   },
   "source": [
    "## Question 3. (Adapted from Exercise 15-4.5 Cormen et al.) [time estimate: 15 minutes]\n",
    "Complete the following function, making use of ```lcs_length``` and ```print_lcs```."
   ]
  },
  {
   "cell_type": "code",
   "execution_count": 214,
   "metadata": {},
   "outputs": [
    {
     "name": "stdout",
     "output_type": "stream",
     "text": [
      "[2, 3, 5, 7, 8]\n"
     ]
    }
   ],
   "source": [
    "def lmis(lst):\n",
    "    \"\"\"\n",
    "    Finds the Longest Monotonically Increasing Subsequence (LMIS) of a list \n",
    "    (lst) of n numbers in O(n^2) time. Note that a monotonically increasing \n",
    "    sequence is a sequence of numbers such that: a_1 <= a_2 <= ... <= a_n .\n",
    "    \n",
    "    Inputs:\n",
    "    - lst: a list of ints\n",
    "    \n",
    "    Outputs:\n",
    "    - out_lst: a list of ints, a longest monotonically increasing subsequence\n",
    "    of lst\n",
    "    \"\"\"\n",
    "    #define list\n",
    "    LMIS = []\n",
    "    #iterate over every element is list\n",
    "    for i in lst:\n",
    "        #check if list is emty and append iterm accordingly\n",
    "        if len(LMIS) == 0:\n",
    "            LMIS.append(i)\n",
    "        #check if i is in LMIS and continue if so\n",
    "        elif i in LMIS:\n",
    "            continue\n",
    "        #if not insert it in sorted order\n",
    "        else:\n",
    "            c = 0\n",
    "            while i > lst[c]:\n",
    "                c+=1\n",
    "            LMIS.insert(c,i)\n",
    "    return LMIS\n",
    "    \n",
    "\n",
    "print(lmis([5,5,7,3,5,2,8]))\n",
    "\n",
    "\n",
    "\n"
   ]
  },
  {
   "cell_type": "markdown",
   "metadata": {
    "deletable": false,
    "editable": false
   },
   "source": [
    "## Question 4 [time estimate: 5 minutes]\n",
    "How would you devise a greedy algorithm to compute the longest common subsequence in a string? Explain your strategy step by step, and comment on any advantages/limitations over the dynamic programming approach. Provide a few test cases to check the validity of the greedy approach."
   ]
  },
  {
   "cell_type": "markdown",
   "metadata": {},
   "source": []
  },
  {
   "cell_type": "markdown",
   "metadata": {},
   "source": [
    "For a greedy algorithm for the common subsequence problem, I would use counts and iterate over each character in one string. First, I would check if the character is in the other string. If it is not, I will move on to the next character. If the character is in the other word, I will check if it is after the last character for that this was true. If there is no previous character, I will increase the current count and max to one. If it is after the last character that was in both strings, I will increase the current count by one and the current max by one if the count is greater than the max. If the character is before the current character, I will restart the current count. This has the advantage that it requires way less space than the dynamic programming approach. Some test cases would be:\n",
    "\n",
    "x = abc  y =bca  z = bc   \n",
    "\n",
    "x = adddbgjkclhf  y =ettbqeticuywrapoi  z = bc\n",
    "  \n",
    "x = abc  y =abcd  z = abc"
   ]
  },
  {
   "cell_type": "code",
   "execution_count": null,
   "metadata": {},
   "outputs": [],
   "source": []
  },
  {
   "cell_type": "code",
   "execution_count": null,
   "metadata": {},
   "outputs": [],
   "source": []
  }
 ],
 "metadata": {
  "kernelspec": {
   "display_name": "Python 3",
   "language": "python",
   "name": "python3"
  },
  "language_info": {
   "codemirror_mode": {
    "name": "ipython",
    "version": 3
   },
   "file_extension": ".py",
   "mimetype": "text/x-python",
   "name": "python",
   "nbconvert_exporter": "python",
   "pygments_lexer": "ipython3",
   "version": "3.8.3"
  }
 },
 "nbformat": 4,
 "nbformat_minor": 4
}
